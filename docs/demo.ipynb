{
 "cells": [
  {
   "cell_type": "markdown",
   "metadata": {},
   "source": [
    "# Deep learning in Nengo\n",
    "\n",
    "The `nengo_deeplearning` package is a backend for Nengo that compiles a Nengo network into a Lasagne implementation. Lasagne is a popular deep learning package.  It uses Theano as the underlying computational framework, but provides a higher level syntax to make it easier to construct neural networks. The network can then be trained using any of Lasagne's built-in optimization methods, or any other training scheme implemented in Theano.\n",
    "\n",
    "From the user's perspective, constructing a network looks the same as any other Nengo model.  There are a few additional limitations (so the set of possible `nengo_deeplearning` models is a subset of the overall space of Nengo models).  Some of these are due to features that I just haven't implemented yet, some may never be implemented (certain network structures are just not amenable to deep learning optimization, and it seems better to just be upfront about that rather than trying to shoe-horn them in)."
   ]
  },
  {
   "cell_type": "code",
   "execution_count": 17,
   "metadata": {
    "collapsed": false
   },
   "outputs": [],
   "source": [
    "%matplotlib inline\n",
    "\n",
    "import pickle\n",
    "\n",
    "import lasagne\n",
    "import matplotlib.pyplot as plt\n",
    "import nengo\n",
    "import nengo_deeplearning\n",
    "import numpy as np\n",
    "import theano\n",
    "\n",
    "from lasagne import nonlinearities as nl\n",
    "from nengo.processes import PresentInput\n",
    "\n",
    "theano.config.floatX = \"float32\""
   ]
  },
  {
   "cell_type": "markdown",
   "metadata": {},
   "source": [
    "We need to define the overall inputs and outputs for the network, which will drive the training. The inputs and outputs should be 3D arrays, with shape `(batch_size, sequence_length, input d)` and `(batch_size, sequence_length, output d)` respectively. This means that we're going to be processing `d` dimensional inputs and outputs, and processing `batch_size` vectors at a time. The `sequence_length` dimension defines the inputs that will be presented at each timestep (so each timestep will process one `(batch_size, d)` set of inputs).\n",
    "\n",
    "Note that if there are no recurrent connections in the model then the sequential presentation of inputs makes no difference (since there is no internal state persisting between timesteps).  So in those cases the `batch_size` and `sequence_length` dimensions will be flattened (effectively processing all the timesteps at once).  But to keep things simple the inputs and outputs are still always specified as 3D arrays."
   ]
  },
  {
   "cell_type": "code",
   "execution_count": 18,
   "metadata": {
    "collapsed": true
   },
   "outputs": [],
   "source": [
    "# in this demo we'll just use uniform random inputs\n",
    "inputs = np.random.uniform(-1, 1, size=(1000, 1, 3)).astype(np.float32)\n",
    "\n",
    "# an arbitrary output function\n",
    "def target_func(inputs):\n",
    "    return (inputs[..., [0]] + 1) * inputs[..., [1]] ** 2 + np.sin(inputs[..., [2]])\n",
    "outputs = target_func(inputs)"
   ]
  },
  {
   "cell_type": "markdown",
   "metadata": {},
   "source": [
    "Now we can build the network itself.  `nengo_deeplearning.default_config()` specifies a set of defaults that are useful for constructing these kinds of networks (used to override the standard Nengo defaults).  Specifically, this removes synaptic filtering, sets all gains to one, randomly samples biases from -1 to 1, and sets the default neuron to be a rectified linear unit (ReLU)."
   ]
  },
  {
   "cell_type": "code",
   "execution_count": 19,
   "metadata": {
    "collapsed": false
   },
   "outputs": [
    {
     "name": "stdout",
     "output_type": "stream",
     "text": [
      "Parameters configured for Connection:\n",
      "  synapse: None\n",
      "Parameters configured for Ensemble:\n",
      "  bias: Uniform(low=-1, high=1)\n",
      "  gain: Choice(options=array([ 1.]))\n",
      "  neuron_type: RectifiedLinear()\n"
     ]
    }
   ],
   "source": [
    "print(nengo_deeplearning.default_config())"
   ]
  },
  {
   "cell_type": "code",
   "execution_count": 20,
   "metadata": {
    "collapsed": true
   },
   "outputs": [],
   "source": [
    "with nengo.Network() as net, nengo_deeplearning.default_config():\n",
    "    # create nodes to define the input for the network (the same as\n",
    "    # any other nengo model). note that the output of these nodes is \n",
    "    # just used when running the network, not during the training \n",
    "    # process (during training we'll use the input array defined above,\n",
    "    # since we're not training online).\n",
    "    # here we'll use the PresentInput process to feed in the inputs we\n",
    "    # defined above, one at a time. \n",
    "    # note that we could just create one 3-dimensional node, but for \n",
    "    # demonstration purposes we'll instead create 3 1-dimensional nodes.\n",
    "    input_nodes = [nengo.Node(output=PresentInput(inputs[..., [i]].squeeze(axis=1), 0.001))\n",
    "                   for i in range(3)]\n",
    "\n",
    "    # create ensembles \n",
    "    ens0 = nengo.Ensemble(100, 2)\n",
    "    ens1 = nengo.Ensemble(50, 1)\n",
    "    \n",
    "    # create connections (note that slicing works in the same\n",
    "    # way as default nengo)\n",
    "    nengo.Connection(input_nodes[0], ens0[0])\n",
    "    nengo.Connection(input_nodes[1], ens0[1])\n",
    "    nengo.Connection(input_nodes[2], ens1)\n",
    "\n",
    "    # network output\n",
    "    output_node = nengo.Node(size_in=1)\n",
    "    \n",
    "    # we can specify a function/transform on a connection. these\n",
    "    # will be used to initialize the weights (using the standard\n",
    "    # NEF weight solvers)\n",
    "    nengo.Connection(ens0, output_node,\n",
    "                     function=lambda x: (x[0] + 1) * x[1] ** 2)\n",
    "    nengo.Connection(ens1, output_node, function=np.sin)\n",
    "\n",
    "    # add probes to nodes or neurons to collect their output\n",
    "    p = nengo.Probe(output_node)"
   ]
  },
  {
   "cell_type": "markdown",
   "metadata": {},
   "source": [
    "This network looks like:\n",
    "<img src=\"3Dnetwork.png\" width=400>"
   ]
  },
  {
   "cell_type": "markdown",
   "metadata": {},
   "source": [
    "To access the `nengo_deeplearning` backend we just pass the network we constructed to `nengo_deeplearning.Simulator`. This will build  a Lasagne network with the same structure as the Nengo network defined above.  The weights in this network are untrained (set to whatever initial values are defined in the Nengo network).  If we run the untrained network we can see the initial performance.\n",
    "\n",
    "The probed output will be stored in the `sim.data` dictionary, as in standard Nengo.  Note that the probed outputs will have the same shape as described above, `(batch_size, sequence_len, d)`.  Batch size is just 1 when we run it this way, but we'll see an example where batch size is >1 later on."
   ]
  },
  {
   "cell_type": "code",
   "execution_count": 21,
   "metadata": {
    "collapsed": false
   },
   "outputs": [
    {
     "name": "stdout",
     "output_type": "stream",
     "text": [
      "checking network\n",
      "building network\n",
      "[[[-0.88782787 -0.63790113  0.8217693 ]]\n",
      "\n",
      " [[-0.88814521 -0.92874092  0.74755365]]\n",
      "\n",
      " [[-0.81375408 -0.49602675 -0.82511085]]]\n",
      "[[[ 0.77799654]]\n",
      "\n",
      " [[ 0.77632821]]\n",
      "\n",
      " [[-0.68879861]]]\n",
      "[[[ 0.89858419]\n",
      "  [ 1.07700014]\n",
      "  [-0.63157672]]]\n",
      "0.0257896203548\n"
     ]
    }
   ],
   "source": [
    "sim = nengo_deeplearning.Simulator(net)\n",
    "\n",
    "sim.run_steps(1000)\n",
    "\n",
    "# example target/actual outputs\n",
    "print(inputs[:3])\n",
    "print(outputs[:3])\n",
    "print(sim.data[p][:, :3])\n",
    "\n",
    "# root mean squared error\n",
    "print(np.sqrt(np.mean(outputs - sim.data[p]) ** 2))"
   ]
  },
  {
   "cell_type": "markdown",
   "metadata": {},
   "source": [
    "To train the network we call the `train` function on the constructed model.  The first parameter is a dict that maps `nengo.Nodes` to the input arrays we defined above (so the backend knows where to insert those inputs in the network).  The second parameter does the same for the targets.  `n_epochs` defines how many times the training process will iterate through the training data, and `minibatch_size` defines the size of the minibatches used within an epoch (once through the dataset).   `optimizer` specifies one of the optimization methods defined in `lasagne.updates` (or this could be any Theano optimizer that implements the same interface).  The `optimizer_kwargs` will be passed to the optimizer function (in this case this is setting the learning rate)."
   ]
  },
  {
   "cell_type": "code",
   "execution_count": 22,
   "metadata": {
    "collapsed": false
   },
   "outputs": [
    {
     "name": "stdout",
     "output_type": "stream",
     "text": [
      "training network\n",
      "Simulation finished in 0:00:49.                                                                                         \n",
      "training complete\n"
     ]
    }
   ],
   "source": [
    "sim.model.train(dict([(input_nodes[i], inputs[..., [i]]) for i in range(3)]), \n",
    "                {output_node: outputs},\n",
    "                n_epochs=1000, minibatch_size=100, \n",
    "                optimizer=lasagne.updates.adagrad,\n",
    "                optimizer_kwargs={\"learning_rate\": 1e-2})"
   ]
  },
  {
   "cell_type": "markdown",
   "metadata": {},
   "source": [
    "Now we can run the trained network:"
   ]
  },
  {
   "cell_type": "code",
   "execution_count": 23,
   "metadata": {
    "collapsed": false
   },
   "outputs": [
    {
     "name": "stdout",
     "output_type": "stream",
     "text": [
      "[[[ 0.77799654]]\n",
      "\n",
      " [[ 0.77632821]]\n",
      "\n",
      " [[-0.68879861]]]\n",
      "[[[ 0.7847116 ]\n",
      "  [ 0.77480286]\n",
      "  [-0.68897706]]]\n",
      "0.000395171868149\n"
     ]
    }
   ],
   "source": [
    "sim.run_steps(1000)\n",
    "\n",
    "print(outputs[:3])\n",
    "print(sim.data[p][:, :3])\n",
    "\n",
    "print(np.sqrt(np.mean(outputs - sim.data[p]) ** 2))"
   ]
  },
  {
   "cell_type": "markdown",
   "metadata": {},
   "source": [
    "You'll notice that we get a pretty small error after training. For comparison, we can run the same network with the reference simulator:"
   ]
  },
  {
   "cell_type": "code",
   "execution_count": 24,
   "metadata": {
    "collapsed": false
   },
   "outputs": [
    {
     "name": "stdout",
     "output_type": "stream",
     "text": [
      "[[[ 0.77799654]]\n",
      "\n",
      " [[ 0.77632821]]\n",
      "\n",
      " [[-0.68879861]]]\n",
      "[[[ 0.89077037]\n",
      "  [ 1.05362653]\n",
      "  [-0.63520117]]]\n",
      "0.02357325136\n"
     ]
    }
   ],
   "source": [
    "sim = nengo.Simulator(net)\n",
    "sim.run_steps(1000)\n",
    "\n",
    "print(outputs[:3])\n",
    "print(sim.data[p][None, :3])\n",
    "\n",
    "print(np.sqrt(np.mean(outputs - sim.data[p][None, ...]) ** 2))"
   ]
  },
  {
   "cell_type": "markdown",
   "metadata": {},
   "source": [
    "## Recurrent networks\n",
    "\n",
    "Recurrent networks work in exactly the same way. One new feature being demonstrated here is the option to pass a distribution for the transform parameter.  This will cause the initial weights to be sampled from that distribution.  Any of the distributions in `nengo.dists` can be used, or any of the distributions in `lasagne.init` (access them via `nengo_deeplearning.init` to wrap them in a Nengo distribution).\n",
    "\n",
    "Here we're implementing a 1D integrator:"
   ]
  },
  {
   "cell_type": "code",
   "execution_count": 25,
   "metadata": {
    "collapsed": false
   },
   "outputs": [
    {
     "name": "stdout",
     "output_type": "stream",
     "text": [
      "checking network\n",
      "building network\n",
      "training network\n",
      "Simulation finished in 0:01:20.                                                                                         \n",
      "training complete\n"
     ]
    },
    {
     "data": {
      "text/plain": [
       "<matplotlib.legend.Legend at 0x24364f98>"
      ]
     },
     "execution_count": 25,
     "metadata": {},
     "output_type": "execute_result"
    },
    {
     "data": {
      "image/png": "[encoded data removed]",
      "text/plain": [
       "<matplotlib.figure.Figure at 0x1cb6a908>"
      ]
     },
     "metadata": {},
     "output_type": "display_data"
    },
    {
     "data": {
      "image/png": "[encoded data removed]",
      "text/plain": [
       "<matplotlib.figure.Figure at 0x2887d9e8>"
      ]
     },
     "metadata": {},
     "output_type": "display_data"
    }
   ],
   "source": [
    "batch_size = 1000\n",
    "sig_len = 10\n",
    "dt = 1e-3\n",
    "inputs = np.random.randn(batch_size, sig_len, 1).astype(np.float32)\n",
    "targets = np.cumsum(inputs, axis=1) * dt\n",
    "\n",
    "with nengo.Network() as net, nengo_deeplearning.default_config():\n",
    "    # note that here we're using a different test input than the training input\n",
    "    input_node = nengo.Node(output=nengo.processes.WhiteNoise(scale=False))\n",
    "    ens = nengo.Ensemble(50, 1)\n",
    "    output_node = nengo.Node(size_in=1)\n",
    "\n",
    "    nengo.Connection(input_node, ens)\n",
    "    # initialize weights from distribution\n",
    "    nengo.Connection(ens.neurons, ens.neurons,\n",
    "                     transform=nengo_deeplearning.init.GlorotUniform())\n",
    "    nengo.Connection(ens, output_node)\n",
    "\n",
    "    input_p = nengo.Probe(input_node)\n",
    "    output_p = nengo.Probe(output_node)\n",
    "\n",
    "sim = nengo_deeplearning.Simulator(net, dt=dt)\n",
    "sim.model.train({input_node: inputs}, {output_node: targets},\n",
    "                n_epochs=1000, minibatch_size=100,\n",
    "                optimizer_kwargs={\"learning_rate\": 1e-2})\n",
    "sim.run_steps(sig_len)\n",
    "\n",
    "truth = np.cumsum(sim.data[input_p], axis=1)*dt\n",
    "\n",
    "plt.figure()\n",
    "plt.plot(sim.trange(), sim.data[input_p][0])\n",
    "plt.title('Input')\n",
    "\n",
    "plt.figure()\n",
    "plt.plot(sim.trange(), sim.data[output_p][0], label=\"output\")\n",
    "plt.plot(sim.trange(), truth[0], label=\"truth\")\n",
    "plt.title('Integration of input')\n",
    "plt.legend()"
   ]
  },
  {
   "cell_type": "markdown",
   "metadata": {},
   "source": [
    "When we run the network as above, `nengo_deeplearning` generates the inputs by checking the output of the input Nodes.  However, the inputs can also be specified directly by passing a `dict` mapping nodes to input arrays (the same format used when specifying the training inputs).  This can be useful to run a batch of inputs simultaneously:"
   ]
  },
  {
   "cell_type": "code",
   "execution_count": 26,
   "metadata": {
    "collapsed": false
   },
   "outputs": [
    {
     "name": "stdout",
     "output_type": "stream",
     "text": [
      "(1000, 10, 1)\n",
      "0.0020223\n"
     ]
    }
   ],
   "source": [
    "sim.run_steps(sig_len, {input_node: np.random.randn(batch_size, sig_len, 1).astype(np.float32)})\n",
    "\n",
    "truth = np.cumsum(sim.data[input_p], axis=1)*dt\n",
    "\n",
    "print(sim.data[output_p].shape)\n",
    "print(np.sqrt(np.mean((truth - sim.data[output_p])**2)))"
   ]
  },
  {
   "cell_type": "markdown",
   "metadata": {},
   "source": [
    "As above, we can use the NEF to initialize the weights on the recurrent connection."
   ]
  },
  {
   "cell_type": "code",
   "execution_count": 27,
   "metadata": {
    "collapsed": false
   },
   "outputs": [
    {
     "name": "stdout",
     "output_type": "stream",
     "text": [
      "checking network\n",
      "building network\n",
      "training network\n",
      "Simulation finished in 0:01:30.                                                                                         \n",
      "training complete\n",
      "(1000, 10, 1)\n",
      "0.00298914\n"
     ]
    },
    {
     "data": {
      "image/png": "[encoded data removed]",
      "text/plain": [
       "<matplotlib.figure.Figure at 0x226b1d68>"
      ]
     },
     "metadata": {},
     "output_type": "display_data"
    },
    {
     "data": {
      "image/png": "[encoded data removed]",
      "text/plain": [
       "<matplotlib.figure.Figure at 0x22261f98>"
      ]
     },
     "metadata": {},
     "output_type": "display_data"
    }
   ],
   "source": [
    "with nengo.Network() as net, nengo_deeplearning.default_config():\n",
    "    # note that here we're using a different test input than the training input\n",
    "    input_node = nengo.Node(output=nengo.processes.WhiteNoise(scale=False))\n",
    "    ens = nengo.Ensemble(50, 1)\n",
    "    output_node = nengo.Node(size_in=1)\n",
    "\n",
    "    nengo.Connection(input_node, ens)\n",
    "    nengo.Connection(ens, ens)\n",
    "    nengo.Connection(ens, output_node)\n",
    "\n",
    "    input_p = nengo.Probe(input_node)\n",
    "    output_p = nengo.Probe(output_node)\n",
    "\n",
    "sim = nengo_deeplearning.Simulator(net, dt=dt)\n",
    "sim.model.train({input_node: inputs}, {output_node: targets},\n",
    "                n_epochs=1000, minibatch_size=100,\n",
    "                optimizer_kwargs={\"learning_rate\": 1e-2})\n",
    "sim.run_steps(sig_len)\n",
    "\n",
    "truth = np.cumsum(sim.data[input_p], axis=0)*dt\n",
    "\n",
    "plt.figure()\n",
    "plt.plot(sim.trange(), sim.data[input_p][0])\n",
    "\n",
    "plt.figure()\n",
    "plt.plot(sim.trange(), sim.data[output_p][0], label=\"output\")\n",
    "plt.plot(sim.trange(), truth[0], label=\"truth\")\n",
    "plt.legend()\n",
    "\n",
    "sim.run_steps(sig_len, {input_node: np.random.randn(batch_size, sig_len, 1).astype(np.float32)})\n",
    "\n",
    "truth = np.cumsum(sim.data[input_p], axis=1)*dt\n",
    "\n",
    "print(sim.data[output_p].shape)\n",
    "print(np.sqrt(np.mean((truth - sim.data[output_p])**2)))"
   ]
  },
  {
   "cell_type": "markdown",
   "metadata": {},
   "source": [
    "# Inserting Lasagne code directly\n",
    "\n",
    "Another thing we might want to do is write some code directly in Lasagne, and then insert that into a `nengo`/`nengo_deeplearning` model.  To do that, we can use `nengo_deeplearning.LasagneNode`.  To start, just create the desired Lasagne network (in this case we'll do a 2D convnet MNIST example):"
   ]
  },
  {
   "cell_type": "code",
   "execution_count": 28,
   "metadata": {
    "collapsed": false
   },
   "outputs": [],
   "source": [
    "# load the inputs/targets (download the dataset at\n",
    "# http://deeplearning.net/data/mnist/mnist.pkl.gz)\n",
    "with open(\"mnist.pkl\", \"rb\") as f:\n",
    "    train, _, test = pickle.load(f, encoding=\"bytes\")\n",
    "targets = np.zeros((train[1].shape[0], 1, 10), dtype=np.float32)\n",
    "targets[np.arange(train[1].shape[0]), :, train[1]] = 1.0\n",
    "\n",
    "# input layer\n",
    "l = lasagne.layers.InputLayer(shape=(None,))\n",
    "\n",
    "# reshape it into the (batch_size, n_channels, 28, 28) image shape\n",
    "l = lasagne.layers.ReshapeLayer(l, shape=(-1, 1, 28, 28))\n",
    "\n",
    "# 2 convolution/pooling layers\n",
    "for _ in range(2):\n",
    "    l = lasagne.layers.Conv2DLayer(l, num_filters=32, filter_size=(5, 5),\n",
    "                                   nonlinearity=nl.rectify,\n",
    "                                   W=lasagne.init.HeNormal(gain=\"relu\"))\n",
    "    l = lasagne.layers.MaxPool2DLayer(l, pool_size=(2, 2))\n",
    "\n",
    "# dense layer\n",
    "l = lasagne.layers.DenseLayer(l, num_units=256, nonlinearity=nl.rectify,\n",
    "                              W=lasagne.init.HeNormal(gain='relu'))\n",
    "\n",
    "# dropout\n",
    "l = lasagne.layers.DropoutLayer(l, p=0.5)\n",
    "\n",
    "# output layer\n",
    "l = lasagne.layers.DenseLayer(l, num_units=10, nonlinearity=nl.softmax)"
   ]
  },
  {
   "cell_type": "markdown",
   "metadata": {},
   "source": [
    "Note that the variable `l` refers to only the most recently constructed layer. However, each layer contains a reference to the previously constructed layer as well, so the entire network can be accessed through `l`.  Next we create a `LasagneNode`, and pass the output layer as the `output` parameter:"
   ]
  },
  {
   "cell_type": "code",
   "execution_count": 29,
   "metadata": {
    "collapsed": false
   },
   "outputs": [],
   "source": [
    "with nengo.Network() as net, nengo_deeplearning.default_config():\n",
    "    # 'insert_weights' is an optional config setting we can use\n",
    "    # to control whether a connection weight matrix is inserted\n",
    "    # for each connection, or whether we just directly connect\n",
    "    # the output of the pre to the post. in this case we already\n",
    "    # created all the weight matrices we want in the above\n",
    "    # Lasagne network.\n",
    "    net.config[nengo.Connection].set_param(\n",
    "        \"insert_weights\", nengo.params.BoolParam(\"insert_weights\", False))\n",
    "\n",
    "    # input node will just present one input image per timestep\n",
    "    input_node = nengo.Node(output=PresentInput(test[0], 0.001))\n",
    "    \n",
    "    # insert the convolutional network we defined above\n",
    "    conv_layers = nengo_deeplearning.layers.LasagneNode(output=l, size_in=784)\n",
    "    \n",
    "    # output node\n",
    "    output_node = nengo.Node(size_in=10)\n",
    "\n",
    "    nengo.Connection(input_node, conv_layers)\n",
    "    nengo.Connection(conv_layers, output_node)\n",
    "\n",
    "    input_p = nengo.Probe(input_node)\n",
    "    p = nengo.Probe(output_node)"
   ]
  },
  {
   "cell_type": "markdown",
   "metadata": {},
   "source": [
    "When we build the network, `nengo_deeplearning` will compile the contents of the `LasagneNode` directly into the network graph.  This means that we can train the parameters inside the `LasagneNode` in the same way as we did previously:"
   ]
  },
  {
   "cell_type": "code",
   "execution_count": 30,
   "metadata": {
    "collapsed": false
   },
   "outputs": [
    {
     "name": "stdout",
     "output_type": "stream",
     "text": [
      "checking network\n",
      "building network\n",
      "training network\n",
      "Simulation finished in 0:00:32.                                                                                         \n",
      "training complete\n"
     ]
    }
   ],
   "source": [
    "sim = nengo_deeplearning.Simulator(net)\n",
    "\n",
    "# we'll use a different optimizer function here, nesterov_momentum.\n",
    "# we'll also use a different objective, categorical_crossentropy,\n",
    "# as opposed to the default squared error we were using previously.\n",
    "sim.train({input_node: train[0][:, None]}, {output_node: targets},\n",
    "          n_epochs=10, minibatch_size=500,\n",
    "          optimizer=lasagne.updates.nesterov_momentum,\n",
    "          optimizer_kwargs={\"learning_rate\": 0.01, \"momentum\": 0.9},\n",
    "          objective=lasagne.objectives.categorical_crossentropy)"
   ]
  },
  {
   "cell_type": "markdown",
   "metadata": {},
   "source": [
    "If we run the trained network, we can see it getting ~98% accuracy on the test set.  Note that we're only training for 10 epochs, which is relatively small.  If you have more patience you can change the `n_epochs` parameter above to 100/200, which should get >99% accuracy."
   ]
  },
  {
   "cell_type": "code",
   "execution_count": 31,
   "metadata": {
    "collapsed": false
   },
   "outputs": [
    {
     "name": "stdout",
     "output_type": "stream",
     "text": [
      "0.9857\n"
     ]
    }
   ],
   "source": [
    "sim.run_steps(test[0].shape[0])\n",
    "\n",
    "output = sim.data[p].squeeze()\n",
    "\n",
    "print(np.mean(np.argmax(output, axis=1) == test[1]))"
   ]
  },
  {
   "cell_type": "markdown",
   "metadata": {},
   "source": [
    "But that's not all!  One of the nice things about `LasagneNode` is that it's just a thin wrapper around a regular `nengo.Node`.  That means that we can take the same MNIST network (which contains our trained `LasagneNode`), and build it using reference `nengo` instead:"
   ]
  },
  {
   "cell_type": "code",
   "execution_count": 32,
   "metadata": {
    "collapsed": false
   },
   "outputs": [
    {
     "name": "stdout",
     "output_type": "stream",
     "text": [
      "0.9857\n"
     ]
    }
   ],
   "source": [
    "sim = nengo.Simulator(net)\n",
    "sim.run_steps(test[0].shape[0])\n",
    "\n",
    "output = sim.data[p]\n",
    "\n",
    "print(np.mean(np.argmax(output, axis=1) == test[1]))"
   ]
  },
  {
   "cell_type": "markdown",
   "metadata": {},
   "source": [
    "And there we go, the same Lasagne network is now running within regular Nengo."
   ]
  },
  {
   "cell_type": "code",
   "execution_count": null,
   "metadata": {
    "collapsed": true
   },
   "outputs": [],
   "source": []
  }
 ],
 "metadata": {
  "kernelspec": {
   "display_name": "Python 3",
   "language": "python",
   "name": "python3"
  },
  "language_info": {
   "codemirror_mode": {
    "name": "ipython",
    "version": 3
   },
   "file_extension": ".py",
   "mimetype": "text/x-python",
   "name": "python",
   "nbconvert_exporter": "python",
   "pygments_lexer": "ipython3",
   "version": "3.4.4"
  }
 },
 "nbformat": 4,
 "nbformat_minor": 0
}
